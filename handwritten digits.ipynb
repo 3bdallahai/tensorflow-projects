{
  "nbformat": 4,
  "nbformat_minor": 0,
  "metadata": {
    "colab": {
      "provenance": [],
      "gpuType": "T4"
    },
    "kernelspec": {
      "name": "python3",
      "display_name": "Python 3"
    },
    "language_info": {
      "name": "python"
    },
    "accelerator": "GPU"
  },
  "cells": [
    {
      "cell_type": "markdown",
      "source": [
        "## Tensorflow"
      ],
      "metadata": {
        "id": "lClZCF3A85wa"
      }
    },
    {
      "cell_type": "code",
      "execution_count": 2,
      "metadata": {
        "id": "BR_a9tWE82EJ"
      },
      "outputs": [],
      "source": [
        "import tensorflow as tf\n",
        "import matplotlib.pyplot as plt\n",
        "import pandas as dp\n",
        "import numpy as np"
      ]
    },
    {
      "cell_type": "code",
      "source": [
        "(x_train, y_train),( x_test, y_test) = tf.keras.datasets.mnist.load_data()\n",
        "x_train.shape, x_test.shape, y_train.shape, y_test.shape"
      ],
      "metadata": {
        "colab": {
          "base_uri": "https://localhost:8080/"
        },
        "id": "xOBZuoqQ9X7C",
        "outputId": "f238fee9-8c22-4318-987c-e86631c8f2d6"
      },
      "execution_count": 3,
      "outputs": [
        {
          "output_type": "stream",
          "name": "stdout",
          "text": [
            "Downloading data from https://storage.googleapis.com/tensorflow/tf-keras-datasets/mnist.npz\n",
            "11490434/11490434 [==============================] - 2s 0us/step\n"
          ]
        },
        {
          "output_type": "execute_result",
          "data": {
            "text/plain": [
              "((60000, 28, 28), (10000, 28, 28), (60000,), (10000,))"
            ]
          },
          "metadata": {},
          "execution_count": 3
        }
      ]
    },
    {
      "cell_type": "code",
      "source": [
        "plt.imshow(x_train[15],cmap='gray')\n"
      ],
      "metadata": {
        "colab": {
          "base_uri": "https://localhost:8080/",
          "height": 447
        },
        "id": "IEXBXiFe-zHp",
        "outputId": "aa77f310-a22e-43b3-e72a-59d1329b9bb5"
      },
      "execution_count": 3,
      "outputs": [
        {
          "output_type": "execute_result",
          "data": {
            "text/plain": [
              "<matplotlib.image.AxesImage at 0x7b962198cd90>"
            ]
          },
          "metadata": {},
          "execution_count": 3
        },
        {
          "output_type": "display_data",
          "data": {
            "text/plain": [
              "<Figure size 640x480 with 1 Axes>"
            ],
            "image/png": "[encoded data removed]"
          },
          "metadata": {}
        }
      ]
    },
    {
      "cell_type": "code",
      "source": [
        "x_train = tf.reshape(x_train,[-1, 28*28])\n",
        "x_test =  tf.reshape(x_test,[-1, 28*28])\n",
        "\n",
        "x_train, x_test = x_train/255, x_test/255"
      ],
      "metadata": {
        "id": "A8xaQe6U95Vl"
      },
      "execution_count": 4,
      "outputs": []
    },
    {
      "cell_type": "code",
      "source": [
        "x_train.shape, x_test.shape, y_train.shape, y_test.shape"
      ],
      "metadata": {
        "colab": {
          "base_uri": "https://localhost:8080/"
        },
        "id": "4t4EeXPuFze_",
        "outputId": "5a5337ff-8996-44b8-b122-5fafcc5b1ac1"
      },
      "execution_count": 56,
      "outputs": [
        {
          "output_type": "execute_result",
          "data": {
            "text/plain": [
              "(TensorShape([60000, 784]),\n",
              " TensorShape([10000, 784]),\n",
              " TensorShape([60000, 10]),\n",
              " TensorShape([10000, 10]))"
            ]
          },
          "metadata": {},
          "execution_count": 56
        }
      ]
    },
    {
      "cell_type": "code",
      "source": [
        "y_train = tf.one_hot(y_train, depth=10)\n",
        "y_test = tf.one_hot(y_test, depth=10)"
      ],
      "metadata": {
        "id": "sq8UFuzG-P2k"
      },
      "execution_count": 5,
      "outputs": []
    },
    {
      "cell_type": "markdown",
      "source": [
        "##Sequential"
      ],
      "metadata": {
        "id": "9aitYxWRRM1k"
      }
    },
    {
      "cell_type": "code",
      "source": [
        "model = tf.keras.Sequential([\n",
        "    tf.keras.layers.Input(shape=[28*28]),\n",
        "    tf.keras.layers.Dense(units=128, activation=tf.nn.relu),\n",
        "    tf.keras.layers.Dense(units=256, activation=tf.nn.relu),\n",
        "    tf.keras.layers.Dense(units=512, activation=tf.nn.relu),\n",
        "    tf.keras.layers.Dense(units=256, activation=tf.nn.relu),\n",
        "    tf.keras.layers.Dense(units=10, activation=tf.nn.softmax)\n",
        "])"
      ],
      "metadata": {
        "id": "-2rYZMc3AzrQ"
      },
      "execution_count": 69,
      "outputs": []
    },
    {
      "cell_type": "code",
      "source": [
        "model.summary()"
      ],
      "metadata": {
        "colab": {
          "base_uri": "https://localhost:8080/"
        },
        "id": "XTQPST6LB_4T",
        "outputId": "70712ddb-d222-4747-9b08-e12f3d5fec64"
      },
      "execution_count": 70,
      "outputs": [
        {
          "output_type": "stream",
          "name": "stdout",
          "text": [
            "Model: \"sequential_3\"\n",
            "_________________________________________________________________\n",
            " Layer (type)                Output Shape              Param #   \n",
            "=================================================================\n",
            " dense_15 (Dense)            (None, 128)               100480    \n",
            "                                                                 \n",
            " dense_16 (Dense)            (None, 256)               33024     \n",
            "                                                                 \n",
            " dense_17 (Dense)            (None, 512)               131584    \n",
            "                                                                 \n",
            " dense_18 (Dense)            (None, 256)               131328    \n",
            "                                                                 \n",
            " dense_19 (Dense)            (None, 10)                2570      \n",
            "                                                                 \n",
            "=================================================================\n",
            "Total params: 398986 (1.52 MB)\n",
            "Trainable params: 398986 (1.52 MB)\n",
            "Non-trainable params: 0 (0.00 Byte)\n",
            "_________________________________________________________________\n"
          ]
        }
      ]
    },
    {
      "cell_type": "code",
      "source": [
        "model.compile(optimizer=tf.optimizers.Adam(),\n",
        "              loss=tf.losses.CategoricalCrossentropy(),\n",
        "              metrics= [tf.metrics.CategoricalAccuracy()]\n",
        "              )"
      ],
      "metadata": {
        "id": "sQT24ZjvCHxb"
      },
      "execution_count": 71,
      "outputs": []
    },
    {
      "cell_type": "code",
      "source": [
        "model.fit(x= x_train, y= y_train, batch_size=32, epochs=10, validation_split=0.1)"
      ],
      "metadata": {
        "colab": {
          "base_uri": "https://localhost:8080/"
        },
        "id": "TWRUNTSAC6pJ",
        "outputId": "6131db9f-5f5f-4c82-ccd9-68494c30b99e"
      },
      "execution_count": 72,
      "outputs": [
        {
          "output_type": "stream",
          "name": "stdout",
          "text": [
            "Epoch 1/10\n",
            "1688/1688 [==============================] - 18s 10ms/step - loss: 0.2362 - categorical_accuracy: 0.9292 - val_loss: 0.1321 - val_categorical_accuracy: 0.9595\n",
            "Epoch 2/10\n",
            "1688/1688 [==============================] - 16s 10ms/step - loss: 0.1159 - categorical_accuracy: 0.9653 - val_loss: 0.0938 - val_categorical_accuracy: 0.9720\n",
            "Epoch 3/10\n",
            "1688/1688 [==============================] - 16s 9ms/step - loss: 0.0863 - categorical_accuracy: 0.9738 - val_loss: 0.0888 - val_categorical_accuracy: 0.9728\n",
            "Epoch 4/10\n",
            "1688/1688 [==============================] - 17s 10ms/step - loss: 0.0671 - categorical_accuracy: 0.9797 - val_loss: 0.1004 - val_categorical_accuracy: 0.9715\n",
            "Epoch 5/10\n",
            "1688/1688 [==============================] - 16s 9ms/step - loss: 0.0586 - categorical_accuracy: 0.9814 - val_loss: 0.0954 - val_categorical_accuracy: 0.9743\n",
            "Epoch 6/10\n",
            "1688/1688 [==============================] - 18s 11ms/step - loss: 0.0489 - categorical_accuracy: 0.9846 - val_loss: 0.0758 - val_categorical_accuracy: 0.9787\n",
            "Epoch 7/10\n",
            "1688/1688 [==============================] - 18s 11ms/step - loss: 0.0407 - categorical_accuracy: 0.9880 - val_loss: 0.0772 - val_categorical_accuracy: 0.9787\n",
            "Epoch 8/10\n",
            "1688/1688 [==============================] - 16s 9ms/step - loss: 0.0380 - categorical_accuracy: 0.9885 - val_loss: 0.0814 - val_categorical_accuracy: 0.9790\n",
            "Epoch 9/10\n",
            "1688/1688 [==============================] - 15s 9ms/step - loss: 0.0341 - categorical_accuracy: 0.9895 - val_loss: 0.0810 - val_categorical_accuracy: 0.9802\n",
            "Epoch 10/10\n",
            "1688/1688 [==============================] - 16s 9ms/step - loss: 0.0293 - categorical_accuracy: 0.9913 - val_loss: 0.0891 - val_categorical_accuracy: 0.9785\n"
          ]
        },
        {
          "output_type": "execute_result",
          "data": {
            "text/plain": [
              "<keras.src.callbacks.History at 0x7ddb868444f0>"
            ]
          },
          "metadata": {},
          "execution_count": 72
        }
      ]
    },
    {
      "cell_type": "code",
      "source": [
        "tf.keras.utils.plot_model(model)"
      ],
      "metadata": {
        "colab": {
          "base_uri": "https://localhost:8080/",
          "height": 564
        },
        "id": "03jK4zuhDUHE",
        "outputId": "79b0061d-a5e7-481e-ddaa-cecc99213179"
      },
      "execution_count": 73,
      "outputs": [
        {
          "output_type": "execute_result",
          "data": {
            "image/png": "[encoded data removed]",
            "text/plain": [
              "<IPython.core.display.Image object>"
            ]
          },
          "metadata": {},
          "execution_count": 73
        }
      ]
    },
    {
      "cell_type": "markdown",
      "source": [
        "##Factional API"
      ],
      "metadata": {
        "id": "B_ikM7cQRRE8"
      }
    },
    {
      "cell_type": "code",
      "source": [
        "def hidden_block(x,hidden_units=512, dropout=0.1):\n",
        "    hidden1 = tf.keras.layers.Dense(units=hidden_units, activation= 'relu')(input)\n",
        "    hidden1 = tf.keras.layers.Dropout(dropout)(hidden1)\n",
        "    hidden1 = tf.keras.layers.Dense(units=hidden_units, activation= 'relu')(hidden1)\n",
        "    hidden1 = tf.keras.layers.Dropout(dropout)(hidden1)\n",
        "    hidden2 = tf.keras.layers.Dense(units=hidden_units, activation= 'relu')(hidden1)\n",
        "    conc = tf.keras.layers.Concatenate()([input , hidden2 ])\n",
        "    return conc\n"
      ],
      "metadata": {
        "id": "VsAALNHpWOpd"
      },
      "execution_count": 15,
      "outputs": []
    },
    {
      "cell_type": "code",
      "source": [
        "input = tf.keras.layers.Input(shape=[28*28])\n",
        "block1= hidden_block(input, 256, 0.1)\n",
        "block2= hidden_block(block1, 512, 0.1)\n",
        "ouptut = tf.keras.layers.Dense(units=10, activation='softmax')(block2)\n",
        "\n",
        "model = tf.keras.Model(inputs=[input], outputs=[ouptut])\n",
        "\n",
        "model.summary()\n"
      ],
      "metadata": {
        "colab": {
          "base_uri": "https://localhost:8080/"
        },
        "id": "4Efwuu4wKYdA",
        "outputId": "f30d7d5e-d597-4dee-eb12-4fe7a7c86a0f"
      },
      "execution_count": 16,
      "outputs": [
        {
          "output_type": "stream",
          "name": "stdout",
          "text": [
            "Model: \"model_1\"\n",
            "__________________________________________________________________________________________________\n",
            " Layer (type)                Output Shape                 Param #   Connected to                  \n",
            "==================================================================================================\n",
            " input_5 (InputLayer)        [(None, 784)]                0         []                            \n",
            "                                                                                                  \n",
            " dense_18 (Dense)            (None, 512)                  401920    ['input_5[0][0]']             \n",
            "                                                                                                  \n",
            " dropout_2 (Dropout)         (None, 512)                  0         ['dense_18[0][0]']            \n",
            "                                                                                                  \n",
            " dense_19 (Dense)            (None, 512)                  262656    ['dropout_2[0][0]']           \n",
            "                                                                                                  \n",
            " dropout_3 (Dropout)         (None, 512)                  0         ['dense_19[0][0]']            \n",
            "                                                                                                  \n",
            " dense_20 (Dense)            (None, 512)                  262656    ['dropout_3[0][0]']           \n",
            "                                                                                                  \n",
            " concatenate_5 (Concatenate  (None, 1296)                 0         ['input_5[0][0]',             \n",
            " )                                                                   'dense_20[0][0]']            \n",
            "                                                                                                  \n",
            " dense_21 (Dense)            (None, 10)                   12970     ['concatenate_5[0][0]']       \n",
            "                                                                                                  \n",
            "==================================================================================================\n",
            "Total params: 940202 (3.59 MB)\n",
            "Trainable params: 940202 (3.59 MB)\n",
            "Non-trainable params: 0 (0.00 Byte)\n",
            "__________________________________________________________________________________________________\n"
          ]
        }
      ]
    },
    {
      "cell_type": "code",
      "source": [
        "tf.keras.utils.plot_model(model)"
      ],
      "metadata": {
        "colab": {
          "base_uri": "https://localhost:8080/",
          "height": 758
        },
        "id": "7pftcQ9KS5Ee",
        "outputId": "c6c0bda6-be31-462e-b543-0a9b8bbe2830"
      },
      "execution_count": 17,
      "outputs": [
        {
          "output_type": "execute_result",
          "data": {
            "image/png": "[encoded data removed]",
            "text/plain": [
              "<IPython.core.display.Image object>"
            ]
          },
          "metadata": {},
          "execution_count": 17
        }
      ]
    },
    {
      "cell_type": "code",
      "source": [
        "model.compile(optimizer='adam',\n",
        "              loss='categorical_crossentropy',\n",
        "              metrics= ['acc']\n",
        "              )"
      ],
      "metadata": {
        "id": "WYmgTA3tTr5f"
      },
      "execution_count": 18,
      "outputs": []
    },
    {
      "cell_type": "code",
      "source": [
        "model.fit(x= x_train, y= y_train, batch_size=32, epochs=10, validation_split=0.1)"
      ],
      "metadata": {
        "colab": {
          "base_uri": "https://localhost:8080/"
        },
        "id": "RZJ2TwgKT-m6",
        "outputId": "e779833a-6254-44fb-899b-82fbc6f65c18"
      },
      "execution_count": 19,
      "outputs": [
        {
          "output_type": "stream",
          "name": "stdout",
          "text": [
            "Epoch 1/10\n",
            "1688/1688 [==============================] - 11s 4ms/step - loss: 0.2157 - acc: 0.9335 - val_loss: 0.1061 - val_acc: 0.9683\n",
            "Epoch 2/10\n",
            "1688/1688 [==============================] - 8s 5ms/step - loss: 0.1043 - acc: 0.9683 - val_loss: 0.0701 - val_acc: 0.9795\n",
            "Epoch 3/10\n",
            "1688/1688 [==============================] - 7s 4ms/step - loss: 0.0778 - acc: 0.9762 - val_loss: 0.0859 - val_acc: 0.9748\n",
            "Epoch 4/10\n",
            "1688/1688 [==============================] - 8s 5ms/step - loss: 0.0615 - acc: 0.9809 - val_loss: 0.0689 - val_acc: 0.9822\n",
            "Epoch 5/10\n",
            "1688/1688 [==============================] - 8s 5ms/step - loss: 0.0518 - acc: 0.9837 - val_loss: 0.0731 - val_acc: 0.9803\n",
            "Epoch 6/10\n",
            "1688/1688 [==============================] - 7s 4ms/step - loss: 0.0468 - acc: 0.9850 - val_loss: 0.0767 - val_acc: 0.9800\n",
            "Epoch 7/10\n",
            "1688/1688 [==============================] - 8s 5ms/step - loss: 0.0420 - acc: 0.9870 - val_loss: 0.0692 - val_acc: 0.9837\n",
            "Epoch 8/10\n",
            "1688/1688 [==============================] - 7s 4ms/step - loss: 0.0353 - acc: 0.9889 - val_loss: 0.0744 - val_acc: 0.9843\n",
            "Epoch 9/10\n",
            "1688/1688 [==============================] - 8s 5ms/step - loss: 0.0351 - acc: 0.9893 - val_loss: 0.0627 - val_acc: 0.9830\n",
            "Epoch 10/10\n",
            "1688/1688 [==============================] - 8s 5ms/step - loss: 0.0311 - acc: 0.9899 - val_loss: 0.0726 - val_acc: 0.9815\n"
          ]
        },
        {
          "output_type": "execute_result",
          "data": {
            "text/plain": [
              "<keras.src.callbacks.History at 0x7b961ff739a0>"
            ]
          },
          "metadata": {},
          "execution_count": 19
        }
      ]
    },
    {
      "cell_type": "markdown",
      "source": [
        "##Subclassing API"
      ],
      "metadata": {
        "id": "Rncu0xfHgW0F"
      }
    },
    {
      "cell_type": "code",
      "source": [
        "class WideDeepModel(tf.keras.Model):\n",
        "  def __init__(self, input_shape, units=30, act='relu', dropout=0.2, **kwargs):\n",
        "     super(WideDeepModel, self).__init__(**kwargs)\n",
        "\n",
        "     self.input_layer = tf.keras.layers.Input(input_shape)\n",
        "     self.hidden1 = tf.keras.layers.Dense(units=units, activation=act)\n",
        "     self.dropout1 = tf.keras.layers.Dropout(dropout)\n",
        "     self.hidden2 = tf.keras.layers.Dense(units=units, activation=act)\n",
        "     self.dropout2 = tf.keras.layers.Dropout(dropout)\n",
        "     self.out = tf.keras.layers.Dense(units=10, activation='softmax')\n",
        "\n",
        "  def build_graph(self):\n",
        "    x = self.input_layer\n",
        "    return tf.keras.Model(inputs=[x], outputs=self.call(x))\n",
        "\n",
        "  def call(self, inputs):\n",
        "    x = self.hidden1(inputs)\n",
        "    x = self.dropout1(x)\n",
        "    x = self.hidden2(x)\n",
        "    x = self.dropout2(x)\n",
        "    conc = tf.keras.layers.concatenate([x,inputs])\n",
        "    output = self.out(conc)\n",
        "    return output\n",
        "\n",
        "\n",
        "\n"
      ],
      "metadata": {
        "id": "ch5mm09aUC2b"
      },
      "execution_count": 31,
      "outputs": []
    },
    {
      "cell_type": "code",
      "source": [
        "model = WideDeepModel(input_shape=(784))\n",
        "model.build(input_shape=(None,784))"
      ],
      "metadata": {
        "id": "G10Vdw_gkzEG"
      },
      "execution_count": 32,
      "outputs": []
    },
    {
      "cell_type": "code",
      "source": [
        "model.summary()"
      ],
      "metadata": {
        "colab": {
          "base_uri": "https://localhost:8080/"
        },
        "id": "W_gd3au4lT-K",
        "outputId": "2ea6c67b-ca6c-4c15-9ef2-1adc70a762dc"
      },
      "execution_count": 22,
      "outputs": [
        {
          "output_type": "stream",
          "name": "stdout",
          "text": [
            "Model: \"wide_deep_model_3\"\n",
            "_________________________________________________________________\n",
            " Layer (type)                Output Shape              Param #   \n",
            "=================================================================\n",
            " dense_9 (Dense)             multiple                  23550     \n",
            "                                                                 \n",
            " dropout_6 (Dropout)         multiple                  0         \n",
            "                                                                 \n",
            " dense_10 (Dense)            multiple                  930       \n",
            "                                                                 \n",
            " dropout_7 (Dropout)         multiple                  0         \n",
            "                                                                 \n",
            " dense_11 (Dense)            multiple                  8150      \n",
            "                                                                 \n",
            "=================================================================\n",
            "Total params: 32630 (127.46 KB)\n",
            "Trainable params: 32630 (127.46 KB)\n",
            "Non-trainable params: 0 (0.00 Byte)\n",
            "_________________________________________________________________\n"
          ]
        }
      ]
    },
    {
      "cell_type": "code",
      "source": [
        "model.compile(optimizer='adam',\n",
        "              loss='categorical_crossentropy',\n",
        "              metrics= ['acc']\n",
        "              )"
      ],
      "metadata": {
        "id": "Rw7Q8Guulelx"
      },
      "execution_count": 24,
      "outputs": []
    },
    {
      "cell_type": "code",
      "source": [
        "model.fit(x=x_train, y=y_train, batch_size=32, epochs=10, validation_split=0.1 )"
      ],
      "metadata": {
        "colab": {
          "base_uri": "https://localhost:8080/"
        },
        "id": "0RvBrp7Vluqq",
        "outputId": "c8b10f58-a8bf-4841-ec62-dce9f162d293"
      },
      "execution_count": 25,
      "outputs": [
        {
          "output_type": "stream",
          "name": "stdout",
          "text": [
            "Epoch 1/10\n",
            "1688/1688 [==============================] - 11s 4ms/step - loss: 0.4163 - acc: 0.8846 - val_loss: 0.1865 - val_acc: 0.9488\n",
            "Epoch 2/10\n",
            "1688/1688 [==============================] - 7s 4ms/step - loss: 0.2340 - acc: 0.9324 - val_loss: 0.1510 - val_acc: 0.9583\n",
            "Epoch 3/10\n",
            "1688/1688 [==============================] - 7s 4ms/step - loss: 0.1960 - acc: 0.9424 - val_loss: 0.1327 - val_acc: 0.9637\n",
            "Epoch 4/10\n",
            "1688/1688 [==============================] - 6s 4ms/step - loss: 0.1748 - acc: 0.9481 - val_loss: 0.1306 - val_acc: 0.9642\n",
            "Epoch 5/10\n",
            "1688/1688 [==============================] - 7s 4ms/step - loss: 0.1605 - acc: 0.9517 - val_loss: 0.1144 - val_acc: 0.9677\n",
            "Epoch 6/10\n",
            "1688/1688 [==============================] - 6s 4ms/step - loss: 0.1487 - acc: 0.9544 - val_loss: 0.1172 - val_acc: 0.9677\n",
            "Epoch 7/10\n",
            "1688/1688 [==============================] - 7s 4ms/step - loss: 0.1409 - acc: 0.9575 - val_loss: 0.1120 - val_acc: 0.9682\n",
            "Epoch 8/10\n",
            "1688/1688 [==============================] - 6s 4ms/step - loss: 0.1358 - acc: 0.9594 - val_loss: 0.1117 - val_acc: 0.9698\n",
            "Epoch 9/10\n",
            "1688/1688 [==============================] - 7s 4ms/step - loss: 0.1303 - acc: 0.9608 - val_loss: 0.1099 - val_acc: 0.9702\n",
            "Epoch 10/10\n",
            "1688/1688 [==============================] - 6s 4ms/step - loss: 0.1250 - acc: 0.9621 - val_loss: 0.1112 - val_acc: 0.9702\n"
          ]
        },
        {
          "output_type": "execute_result",
          "data": {
            "text/plain": [
              "<keras.src.callbacks.History at 0x7d8b65300a30>"
            ]
          },
          "metadata": {},
          "execution_count": 25
        }
      ]
    },
    {
      "cell_type": "code",
      "source": [
        "  tf.keras.utils.plot_model(model.build_graph())"
      ],
      "metadata": {
        "colab": {
          "base_uri": "https://localhost:8080/",
          "height": 661
        },
        "id": "zCOHdhtppPJh",
        "outputId": "90e10115-be6b-4b57-e555-f9e5321d3613"
      },
      "execution_count": 33,
      "outputs": [
        {
          "output_type": "execute_result",
          "data": {
            "image/png": "[encoded data removed]",
            "text/plain": [
              "<IPython.core.display.Image object>"
            ]
          },
          "metadata": {},
          "execution_count": 33
        }
      ]
    },
    {
      "cell_type": "code",
      "source": [],
      "metadata": {
        "id": "jfi8YzKMqIp1"
      },
      "execution_count": null,
      "outputs": []
    }
  ]
}
